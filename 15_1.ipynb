{
 "cells": [
  {
   "cell_type": "markdown",
   "metadata": {},
   "source": [
    "Файл `Fishing.csv` содержит результаты опроса о рыбалке: респонденты, заполняя опросник, подробно описывали свою недавнюю рыбалку.\n",
    "\n",
    "**Описание переменных в датафрейме:**\n",
    "\n",
    "\n",
    "* `mode`: выбранный тип рыбалки: на берегу (`beach`), на пирсе (`pier`), в своей лодке (`boat`) и в арендованной лодке (`charter`);\n",
    "\n",
    "* `price`: стоимость выбранного типа рыбалки;\n",
    "\n",
    "* `catch`: коэффициент улова при выбранном типе рыбалки;\n",
    "\n",
    "* `pbeach`: стоимость рыбалки на берегу;\n",
    "\n",
    "* `ppier`: стоимость рыбалки на пирсе;\n",
    "\n",
    "* `pboat`: стоимость рыбалки на своей лодке;\n",
    "\n",
    "* `pcharter`: стоимость рыбалки на арендованной лодке;\n",
    "\n",
    "* `cbeach`: коэффициент улова на рыбалке на берегу;\n",
    "\n",
    "* `cpier`: коэффициент улова на рыбалке на пирсе;\n",
    "\n",
    "* `cboat`: коэффициент улова на рыбалке на своей лодке;\n",
    "\n",
    "* `ccharter`: коэффициент улова на рыбалке на арендованной лодке;\n",
    "\n",
    "* `income`: доход в месяц.\n",
    "\n",
    "Подробнее об опросе и исследовании можно почитать в [статье](https://core.ac.uk/download/pdf/38934845.pdf) J.Herriges, C.Kling *\"Nonlinear Income Effects in Random Utility Models\"* (1999)."
   ]
  },
  {
   "cell_type": "markdown",
   "metadata": {},
   "source": [
    "### Задание 1\n",
    "\n",
    "Загрузить таблицу из файла `Fishing.csv` и сохранить её в датафрейм `dat`. \n",
    "Вывести на экран первые 8 строк загруженного датафрейма."
   ]
  },
  {
   "cell_type": "code",
   "execution_count": null,
   "metadata": {},
   "outputs": [],
   "source": [
    "import pandas as pd\n",
    "import os\n",
    "\n",
    "dat = pd.read_csv(os.path.join(\"data\", \"Fishing.csv\"))\n",
    "\n",
    "dat.head(8)"
   ]
  },
  {
   "cell_type": "markdown",
   "metadata": {},
   "source": [
    "### Задание 2\n",
    "\n",
    "Добавить, используя метод `.apply()`, столбец `log_income`, содержащий натуральный логарифм доходов респондентов."
   ]
  },
  {
   "cell_type": "code",
   "execution_count": null,
   "metadata": {},
   "outputs": [],
   "source": [
    "import pandas as pd\n",
    "import os\n",
    "import numpy\n",
    "\n",
    "dat = pd.read_csv(os.path.join(\"data\", \"Fishing.csv\"))\n",
    "dat[\"log_income\"] = dat[\"income\"].apply(numpy.log)\n",
    "\n",
    "dat"
   ]
  },
  {
   "cell_type": "markdown",
   "metadata": {},
   "source": [
    "### Задание 3\n",
    "\n",
    "Посчитать для каждого респондента абсолютное значение отклонения `price` от `pbeach`  и сохранить результат в столбец `pdiff`.\n",
    "\n"
   ]
  },
  {
   "cell_type": "code",
   "execution_count": null,
   "metadata": {},
   "outputs": [],
   "source": [
    "import pandas as pd\n",
    "import os\n",
    "import numpy\n",
    "\n",
    "dat = pd.read_csv(os.path.join(\"data\", \"Fishing.csv\"))\n",
    "dat[\"pdiff\"] = (dat[\"price\"] - dat[\"pbeach\"]).apply(numpy.absolute)\n",
    "\n",
    "dat"
   ]
  },
  {
   "cell_type": "markdown",
   "metadata": {},
   "source": [
    "### Задание 4\n",
    "\n",
    "Сгруппировать наблюдения в таблице по признаку тип рыбалки (`mode`) и вывести для каждого типа среднюю цену (`price`), которую респонденты заплатили за рыбалку."
   ]
  },
  {
   "cell_type": "code",
   "execution_count": null,
   "metadata": {},
   "outputs": [],
   "source": [
    "import pandas as pd\n",
    "import os\n",
    "import numpy\n",
    "\n",
    "dat = pd.read_csv(os.path.join(\"data\", \"Fishing.csv\"))\n",
    "group = dat.groupby(\"mode\").agg({\"price\": [numpy.average]})\n",
    "\n",
    "group"
   ]
  },
  {
   "cell_type": "markdown",
   "metadata": {},
   "source": [
    "### Задание 5\n",
    "\n",
    "Сгруппировать наблюдения в таблице по признаку тип рыбалки (`mode`) и вывести для каждого типа разницу между медианным и средним значением цены (`price`), которую респонденты заплатили за рыбалку.\n",
    "\n",
    "**Посказка:** можно написать свою lambda-функцию для подсчёта разницы между медианой и средним и применить её внутри метода для агрегирования. Внимание: название самостоятельно написанной функции будет уже вводиться без кавычек. "
   ]
  },
  {
   "cell_type": "code",
   "execution_count": null,
   "metadata": {},
   "outputs": [],
   "source": [
    "import pandas as pd\n",
    "import os\n",
    "import numpy\n",
    "\n",
    "dat = pd.read_csv(os.path.join(\"data\", \"Fishing.csv\"))\n",
    "group = dat.groupby(\"mode\").agg({\"price\": [lambda x: numpy.median(x) - numpy.mean(x)]})\n",
    "\n",
    "group"
   ]
  },
  {
   "cell_type": "markdown",
   "metadata": {},
   "source": [
    "### Задание 6\n",
    "\n",
    "Сгруппировать наблюдения в таблице по признаку тип рыбалки (`mode`) и сохранить полученные датафреймы (один для каждого типа рыбалки) в отдельные csv-файлы. В итоге должно получиться четыре разных csv-файла.\n",
    "\n",
    "**Подсказка 1:** можно запустить следующий код и посмотреть, что получится: "
   ]
  },
  {
   "cell_type": "code",
   "execution_count": null,
   "metadata": {},
   "outputs": [],
   "source": [
    "for name, data in dat.groupby(\"mode\"):\n",
    "    print(name, data)"
   ]
  },
  {
   "cell_type": "markdown",
   "metadata": {},
   "source": [
    "**Подсказка 2:** для сохранения датафрейма в файл используется метод `.to_csv()`. Например, такой код сохранит датафрейм `dat` в файл `\"Fish.csv\"`:"
   ]
  },
  {
   "cell_type": "code",
   "execution_count": null,
   "metadata": {},
   "outputs": [],
   "source": [
    "dat.to_csv(\"Fish.csv\")"
   ]
  },
  {
   "cell_type": "code",
   "execution_count": null,
   "metadata": {},
   "outputs": [],
   "source": [
    "import pandas as pd\n",
    "import os\n",
    "import numpy\n",
    "\n",
    "dat = pd.read_csv(os.path.join(\"data\", \"Fishing.csv\"))\n",
    "\n",
    "for name, data in dat.groupby(\"mode\"):\n",
    "    data.to_csv(os.path.join(\"data\", f\"groupby_{name}.csv\"), index = False)\n"
   ]
  },
  {
   "cell_type": "markdown",
   "metadata": {},
   "source": [
    "### Задание 7\n",
    "\n",
    "Отсортировать строки в датафрейме в соответствии со значениями `income` в порядке убывания таким образом, чтобы результаты сортировки сохранились в исходном датафрейме."
   ]
  },
  {
   "cell_type": "code",
   "execution_count": null,
   "metadata": {},
   "outputs": [],
   "source": [
    "import pandas as pd\n",
    "import os\n",
    "import numpy\n",
    "\n",
    "dat = pd.read_csv(os.path.join(\"data\", \"Fishing.csv\"))\n",
    "dat.sort_values(by = \"income\", ascending = False, inplace = True)\n",
    "\n",
    "dat"
   ]
  },
  {
   "cell_type": "markdown",
   "metadata": {},
   "source": [
    "### Задание 8\n",
    "\n",
    "Отсортировать строки в датафрейме в соответствии со значениями `price` и `income` в порядке возрастания. Можно ли сказать, что люди с более низким доходом и выбравшие более дешёвый тип рыбалки, в целом, предпочитают один тип рыбалки, а люди с более высоким доходом и более дорогой рыбалкой – другой? Ответ записать в виде текстовой ячейки или в виде комментария."
   ]
  },
  {
   "cell_type": "code",
   "execution_count": 10,
   "metadata": {},
   "outputs": [
    {
     "data": {
      "text/html": [
       "<div>\n",
       "<style scoped>\n",
       "    .dataframe tbody tr th:only-of-type {\n",
       "        vertical-align: middle;\n",
       "    }\n",
       "\n",
       "    .dataframe tbody tr th {\n",
       "        vertical-align: top;\n",
       "    }\n",
       "\n",
       "    .dataframe thead th {\n",
       "        text-align: right;\n",
       "    }\n",
       "</style>\n",
       "<table border=\"1\" class=\"dataframe\">\n",
       "  <thead>\n",
       "    <tr style=\"text-align: right;\">\n",
       "      <th></th>\n",
       "      <th>index</th>\n",
       "      <th>next_index</th>\n",
       "      <th>mode</th>\n",
       "      <th>price</th>\n",
       "      <th>catch</th>\n",
       "      <th>pbeach</th>\n",
       "      <th>ppier</th>\n",
       "      <th>pboat</th>\n",
       "      <th>pcharter</th>\n",
       "      <th>cbeach</th>\n",
       "      <th>cpier</th>\n",
       "      <th>cboat</th>\n",
       "      <th>ccharter</th>\n",
       "      <th>income</th>\n",
       "    </tr>\n",
       "  </thead>\n",
       "  <tbody>\n",
       "    <tr>\n",
       "      <th>1013</th>\n",
       "      <td>1013.0</td>\n",
       "      <td>1014</td>\n",
       "      <td>beach</td>\n",
       "      <td>1.290</td>\n",
       "      <td>0.5333</td>\n",
       "      <td>1.290</td>\n",
       "      <td>1.290</td>\n",
       "      <td>39.990</td>\n",
       "      <td>74.990</td>\n",
       "      <td>0.5333</td>\n",
       "      <td>0.4522</td>\n",
       "      <td>0.2413</td>\n",
       "      <td>1.0266</td>\n",
       "      <td>416.66668</td>\n",
       "    </tr>\n",
       "    <tr>\n",
       "      <th>1105</th>\n",
       "      <td>1105.0</td>\n",
       "      <td>1106</td>\n",
       "      <td>pier</td>\n",
       "      <td>1.290</td>\n",
       "      <td>0.4522</td>\n",
       "      <td>1.290</td>\n",
       "      <td>1.290</td>\n",
       "      <td>39.990</td>\n",
       "      <td>74.990</td>\n",
       "      <td>0.5333</td>\n",
       "      <td>0.4522</td>\n",
       "      <td>0.0051</td>\n",
       "      <td>1.0266</td>\n",
       "      <td>416.66668</td>\n",
       "    </tr>\n",
       "    <tr>\n",
       "      <th>1157</th>\n",
       "      <td>1157.0</td>\n",
       "      <td>1158</td>\n",
       "      <td>pier</td>\n",
       "      <td>1.290</td>\n",
       "      <td>0.4522</td>\n",
       "      <td>1.290</td>\n",
       "      <td>1.290</td>\n",
       "      <td>39.990</td>\n",
       "      <td>74.990</td>\n",
       "      <td>0.5333</td>\n",
       "      <td>0.4522</td>\n",
       "      <td>0.1665</td>\n",
       "      <td>0.3975</td>\n",
       "      <td>416.66668</td>\n",
       "    </tr>\n",
       "    <tr>\n",
       "      <th>275</th>\n",
       "      <td>275.0</td>\n",
       "      <td>276</td>\n",
       "      <td>pier</td>\n",
       "      <td>2.290</td>\n",
       "      <td>0.0789</td>\n",
       "      <td>2.290</td>\n",
       "      <td>2.290</td>\n",
       "      <td>2.290</td>\n",
       "      <td>31.290</td>\n",
       "      <td>0.0678</td>\n",
       "      <td>0.0789</td>\n",
       "      <td>0.0971</td>\n",
       "      <td>0.1648</td>\n",
       "      <td>1249.99980</td>\n",
       "    </tr>\n",
       "    <tr>\n",
       "      <th>287</th>\n",
       "      <td>287.0</td>\n",
       "      <td>288</td>\n",
       "      <td>pier</td>\n",
       "      <td>2.290</td>\n",
       "      <td>0.0789</td>\n",
       "      <td>2.290</td>\n",
       "      <td>2.290</td>\n",
       "      <td>2.290</td>\n",
       "      <td>31.290</td>\n",
       "      <td>0.0678</td>\n",
       "      <td>0.0789</td>\n",
       "      <td>0.1643</td>\n",
       "      <td>0.5391</td>\n",
       "      <td>1249.99980</td>\n",
       "    </tr>\n",
       "    <tr>\n",
       "      <th>...</th>\n",
       "      <td>...</td>\n",
       "      <td>...</td>\n",
       "      <td>...</td>\n",
       "      <td>...</td>\n",
       "      <td>...</td>\n",
       "      <td>...</td>\n",
       "      <td>...</td>\n",
       "      <td>...</td>\n",
       "      <td>...</td>\n",
       "      <td>...</td>\n",
       "      <td>...</td>\n",
       "      <td>...</td>\n",
       "      <td>...</td>\n",
       "      <td>...</td>\n",
       "    </tr>\n",
       "    <tr>\n",
       "      <th>377</th>\n",
       "      <td>377.0</td>\n",
       "      <td>378</td>\n",
       "      <td>boat</td>\n",
       "      <td>328.432</td>\n",
       "      <td>0.0023</td>\n",
       "      <td>511.596</td>\n",
       "      <td>511.596</td>\n",
       "      <td>328.432</td>\n",
       "      <td>352.432</td>\n",
       "      <td>0.1049</td>\n",
       "      <td>0.0451</td>\n",
       "      <td>0.0023</td>\n",
       "      <td>0.0046</td>\n",
       "      <td>12499.99800</td>\n",
       "    </tr>\n",
       "    <tr>\n",
       "      <th>588</th>\n",
       "      <td>588.0</td>\n",
       "      <td>589</td>\n",
       "      <td>charter</td>\n",
       "      <td>330.072</td>\n",
       "      <td>0.0052</td>\n",
       "      <td>106.112</td>\n",
       "      <td>106.112</td>\n",
       "      <td>305.072</td>\n",
       "      <td>330.072</td>\n",
       "      <td>0.2537</td>\n",
       "      <td>0.1498</td>\n",
       "      <td>0.0531</td>\n",
       "      <td>0.0052</td>\n",
       "      <td>6250.00130</td>\n",
       "    </tr>\n",
       "    <tr>\n",
       "      <th>446</th>\n",
       "      <td>446.0</td>\n",
       "      <td>447</td>\n",
       "      <td>charter</td>\n",
       "      <td>335.314</td>\n",
       "      <td>1.0266</td>\n",
       "      <td>578.048</td>\n",
       "      <td>578.048</td>\n",
       "      <td>300.314</td>\n",
       "      <td>335.314</td>\n",
       "      <td>0.5333</td>\n",
       "      <td>0.4522</td>\n",
       "      <td>0.2413</td>\n",
       "      <td>1.0266</td>\n",
       "      <td>8750.00100</td>\n",
       "    </tr>\n",
       "    <tr>\n",
       "      <th>211</th>\n",
       "      <td>211.0</td>\n",
       "      <td>212</td>\n",
       "      <td>charter</td>\n",
       "      <td>387.208</td>\n",
       "      <td>2.3014</td>\n",
       "      <td>115.248</td>\n",
       "      <td>115.248</td>\n",
       "      <td>362.208</td>\n",
       "      <td>387.208</td>\n",
       "      <td>0.2537</td>\n",
       "      <td>0.1498</td>\n",
       "      <td>0.6817</td>\n",
       "      <td>2.3014</td>\n",
       "      <td>7916.66630</td>\n",
       "    </tr>\n",
       "    <tr>\n",
       "      <th>249</th>\n",
       "      <td>249.0</td>\n",
       "      <td>250</td>\n",
       "      <td>boat</td>\n",
       "      <td>666.110</td>\n",
       "      <td>0.0531</td>\n",
       "      <td>359.022</td>\n",
       "      <td>359.022</td>\n",
       "      <td>666.110</td>\n",
       "      <td>691.110</td>\n",
       "      <td>0.2537</td>\n",
       "      <td>0.1498</td>\n",
       "      <td>0.0531</td>\n",
       "      <td>0.0052</td>\n",
       "      <td>8750.00100</td>\n",
       "    </tr>\n",
       "  </tbody>\n",
       "</table>\n",
       "<p>1182 rows × 14 columns</p>\n",
       "</div>"
      ],
      "text/plain": [
       "       index  next_index     mode    price   catch   pbeach    ppier    pboat  \\\n",
       "1013  1013.0        1014    beach    1.290  0.5333    1.290    1.290   39.990   \n",
       "1105  1105.0        1106     pier    1.290  0.4522    1.290    1.290   39.990   \n",
       "1157  1157.0        1158     pier    1.290  0.4522    1.290    1.290   39.990   \n",
       "275    275.0         276     pier    2.290  0.0789    2.290    2.290    2.290   \n",
       "287    287.0         288     pier    2.290  0.0789    2.290    2.290    2.290   \n",
       "...      ...         ...      ...      ...     ...      ...      ...      ...   \n",
       "377    377.0         378     boat  328.432  0.0023  511.596  511.596  328.432   \n",
       "588    588.0         589  charter  330.072  0.0052  106.112  106.112  305.072   \n",
       "446    446.0         447  charter  335.314  1.0266  578.048  578.048  300.314   \n",
       "211    211.0         212  charter  387.208  2.3014  115.248  115.248  362.208   \n",
       "249    249.0         250     boat  666.110  0.0531  359.022  359.022  666.110   \n",
       "\n",
       "      pcharter  cbeach   cpier   cboat  ccharter       income  \n",
       "1013    74.990  0.5333  0.4522  0.2413    1.0266    416.66668  \n",
       "1105    74.990  0.5333  0.4522  0.0051    1.0266    416.66668  \n",
       "1157    74.990  0.5333  0.4522  0.1665    0.3975    416.66668  \n",
       "275     31.290  0.0678  0.0789  0.0971    0.1648   1249.99980  \n",
       "287     31.290  0.0678  0.0789  0.1643    0.5391   1249.99980  \n",
       "...        ...     ...     ...     ...       ...          ...  \n",
       "377    352.432  0.1049  0.0451  0.0023    0.0046  12499.99800  \n",
       "588    330.072  0.2537  0.1498  0.0531    0.0052   6250.00130  \n",
       "446    335.314  0.5333  0.4522  0.2413    1.0266   8750.00100  \n",
       "211    387.208  0.2537  0.1498  0.6817    2.3014   7916.66630  \n",
       "249    691.110  0.2537  0.1498  0.0531    0.0052   8750.00100  \n",
       "\n",
       "[1182 rows x 14 columns]"
      ]
     },
     "execution_count": 10,
     "metadata": {},
     "output_type": "execute_result"
    }
   ],
   "source": [
    "import pandas as pd\n",
    "import os\n",
    "import numpy\n",
    "\n",
    "dat = pd.read_csv(os.path.join(\"data\", \"Fishing.csv\"))\n",
    "dat.sort_values(by = [\"price\", \"income\"], ascending = [True, True], inplace = True)\n",
    "\n",
    "dat"
   ]
  },
  {
   "cell_type": "markdown",
   "metadata": {},
   "source": [
    "Люди с низким доходом предпочиатют рыбалку на пляже или с пирса, люди с более высоким уровнем дохода предпочитают рыбалку с лодки или аренду."
   ]
  },
  {
   "cell_type": "markdown",
   "metadata": {},
   "source": [
    "### Задание 9\n",
    "\n",
    "Любым известным способом проверить, есть ли в датафрейме пропущенные значения. Если есть, удалить строки с пропущенными значениями. Если нет, написать комментарий, что таких нет."
   ]
  },
  {
   "cell_type": "code",
   "execution_count": 13,
   "metadata": {},
   "outputs": [
    {
     "name": "stdout",
     "output_type": "stream",
     "text": [
      "В dataFrame присутствовали пропущенные значения и они успешно удалены\n"
     ]
    }
   ],
   "source": [
    "import pandas as pd\n",
    "import os\n",
    "import numpy\n",
    "\n",
    "dat = pd.read_csv(os.path.join(\"data\", \"Fishing.csv\"))\n",
    "\n",
    "if dat.isnull().any(axis = None):\n",
    "    dat.dropna(inplace = True)\n",
    "    if dat.isnull().any(axis = None):\n",
    "        print(\"В dataFrame ещё остались пропущенные значения\")\n",
    "    else:\n",
    "        print(\"В dataFrame присутствовали пропущенные значения и они успешно удалены\")\n",
    "else:\n",
    "    print(\"В dataFrame нет пропущенных значений\")\n"
   ]
  }
 ],
 "metadata": {
  "interpreter": {
   "hash": "82ca00de6dfeb9e2eef59d83b518ae9b61e5781747466ffa06053c845d8d3ce9"
  },
  "kernelspec": {
   "display_name": "Python 3.9.12 ('base')",
   "language": "python",
   "name": "python3"
  },
  "language_info": {
   "codemirror_mode": {
    "name": "ipython",
    "version": 3
   },
   "file_extension": ".py",
   "mimetype": "text/x-python",
   "name": "python",
   "nbconvert_exporter": "python",
   "pygments_lexer": "ipython3",
   "version": "3.9.12"
  },
  "orig_nbformat": 4
 },
 "nbformat": 4,
 "nbformat_minor": 2
}
