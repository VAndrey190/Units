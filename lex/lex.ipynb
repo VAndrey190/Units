{
 "cells": [
  {
   "cell_type": "code",
   "execution_count": 1,
   "metadata": {},
   "outputs": [
    {
     "data": {
      "text/plain": [
       "RangeIndex(start=0, stop=3, step=1)"
      ]
     },
     "execution_count": 1,
     "metadata": {},
     "output_type": "execute_result"
    }
   ],
   "source": [
    "import pandas as pd\n",
    "\n",
    "salaries = pd.Series([1000, 2000,500])\n",
    "salaries\n",
    "type(salaries.values)\n",
    "salaries.index\n"
   ]
  },
  {
   "cell_type": "code",
   "execution_count": 5,
   "metadata": {},
   "outputs": [
    {
     "data": {
      "text/plain": [
       "Moscow    1000\n",
       "London    2000\n",
       "Berlin     500\n",
       "dtype: int64"
      ]
     },
     "execution_count": 5,
     "metadata": {},
     "output_type": "execute_result"
    }
   ],
   "source": [
    "average_salary = pd.Series([1000, 2000,500], index=[\"Moscow\", \"London\", \"Berlin\"])\n",
    "average_salary\n"
   ]
  },
  {
   "cell_type": "code",
   "execution_count": 3,
   "metadata": {},
   "outputs": [
    {
     "data": {
      "text/plain": [
       "1    Jack\n",
       "2    Anna\n",
       "3     Tom\n",
       "dtype: object"
      ]
     },
     "execution_count": 3,
     "metadata": {},
     "output_type": "execute_result"
    }
   ],
   "source": [
    "people = pd.Series([\"Jack\", \"Anna\", \"Tom\"], index=[1,2,3])\n",
    "people\n"
   ]
  },
  {
   "cell_type": "code",
   "execution_count": 7,
   "metadata": {},
   "outputs": [
    {
     "data": {
      "text/plain": [
       "1    Jack\n",
       "2    Anna\n",
       "dtype: object"
      ]
     },
     "execution_count": 7,
     "metadata": {},
     "output_type": "execute_result"
    }
   ],
   "source": [
    "people.loc[1]\n",
    "people.iloc[1]\n",
    "people.loc[1:3]\n",
    "people.iloc[0:2]\n",
    "people.iloc[-1]\n",
    "\n"
   ]
  },
  {
   "cell_type": "code",
   "execution_count": null,
   "metadata": {},
   "outputs": [],
   "source": [
    "average_salaries = pd.Series({\"Russia\": 1000, \"UK\": 2000, \"Spain\": 800})\n",
    "population = pd.Series({\"Russia\": 145, \"Spain\":80})\n",
    "country_data = pd.DataFrame({\n",
    "    \"salary\": average_salaries,\n",
    "    \"population\": population\n",
    "})\n",
    "country_data\n"
   ]
  },
  {
   "cell_type": "code",
   "execution_count": null,
   "metadata": {},
   "outputs": [],
   "source": [
    "average_salaries = pd.Series({\"Russia\": 1000, \"UK\": 2000, \"Spain\": 800})\n",
    "population = pd.Series({\"Russia\": 145, \"Spain\":80})\n",
    "country_data = pd.DataFrame({\n",
    "    \"salary\": average_salaries,\n",
    "    \"population\": population\n",
    "})\n",
    "country_data\n"
   ]
  },
  {
   "cell_type": "code",
   "execution_count": null,
   "metadata": {},
   "outputs": [],
   "source": [
    "country_data.index\n",
    "country_data.values\n",
    "country_data.axes\n",
    "country_data.keys()\n",
    "type(country_data[\"salary\"])\n",
    "country_data.loc[\"Russia\"]\n",
    "\n",
    "country_data.iloc[0]\n",
    "\n",
    "\n",
    "country_data.loc[\"Russia\":\"Spain\", \"salary\":\"population\"]\n"
   ]
  },
  {
   "cell_type": "code",
   "execution_count": null,
   "metadata": {},
   "outputs": [],
   "source": [
    "country_data.iloc[0:2, 0:2]\n",
    "\n",
    "people = pd.DataFrame([{\"name\": \"John\", \"age\": 12}, {\"name\": \"Anna\", \"age\": 14}])\n",
    "people\n",
    "\n",
    "people.shape\n",
    "\n",
    "country_data.columns\n"
   ]
  },
  {
   "cell_type": "code",
   "execution_count": null,
   "metadata": {},
   "outputs": [],
   "source": [
    "df = pd.DataFrame([\n",
    "    [\"Tom\", 23, 177],\n",
    "    [\"Jack\", 30, 190],\n",
    "    [\"Anna\", 10,138],\n",
    "    [\"Pater\", 11,149],\n",
    "    [\"Kate\", 60, 160]\n",
    "])\n",
    "df\n",
    "df.columns = [\"Name\", \"Age\", \"Height\"]\n",
    "df\n"
   ]
  },
  {
   "cell_type": "code",
   "execution_count": null,
   "metadata": {},
   "outputs": [],
   "source": [
    "df[[\"Name\", \"Height\"]].iloc[0:2]\n"
   ]
  },
  {
   "cell_type": "code",
   "execution_count": null,
   "metadata": {},
   "outputs": [],
   "source": [
    "df.index = df[\"Name\"]\n",
    "df\n"
   ]
  },
  {
   "cell_type": "code",
   "execution_count": null,
   "metadata": {},
   "outputs": [],
   "source": [
    "df.reset_index(drop=True, inplace=True)\n",
    "df[df[\"Age\"]>18]\n"
   ]
  },
  {
   "cell_type": "code",
   "execution_count": null,
   "metadata": {},
   "outputs": [],
   "source": [
    "df[(df[\"Age\"]>18)&(df[\"Height\"]>180)]\n",
    "df[\"Age\"]+=1\n",
    "\n",
    "df[\"Sex\"]=[\"M\", \"M\", \"F\", \"M\", \"F\"]\n"
   ]
  },
  {
   "cell_type": "code",
   "execution_count": null,
   "metadata": {},
   "outputs": [],
   "source": [
    "df = pd.read_csv(\"./data/WeightLoss.csv\")\n",
    "df\n"
   ]
  },
  {
   "cell_type": "code",
   "execution_count": null,
   "metadata": {},
   "outputs": [],
   "source": [
    "df[\"weight_loss_total\"] = df.w1+df.w2+df.w3\n",
    "\n",
    "df.info()\n",
    "\n",
    "df.shape\n",
    "df.describe()\n",
    "\n",
    "df.head(n=8)\n",
    "df.tail(n=8)\n"
   ]
  },
  {
   "cell_type": "code",
   "execution_count": null,
   "metadata": {},
   "outputs": [],
   "source": [
    "import numpy as np\n",
    "\n",
    "df[\"weight_sqrt\"] = df.weight_loss_total.apply(np.sqrt)\n",
    "df[\"mean\"] = df.loc[:, \"w1\":\"w3\"].apply(np.mean, axis=1)\n",
    "df.head()\n",
    "\n",
    "f = lambda x:x**2\n",
    "f(4)\n"
   ]
  },
  {
   "cell_type": "code",
   "execution_count": null,
   "metadata": {},
   "outputs": [],
   "source": [
    "df[\"delta\"] = df.loc[:, \"w1\":\"w3\"].apply(lambda w: w.max() - w.min(), axis = 1)\n",
    "df.head()\n"
   ]
  },
  {
   "cell_type": "code",
   "execution_count": null,
   "metadata": {},
   "outputs": [],
   "source": [
    "group = df.groupby(\"group\")\n",
    "group\n",
    "group = df.groupby(\"group\")\n",
    "list(group)[0]\n",
    "\n",
    "group.weight_loss_total.sum()\n",
    "\n",
    "group.weight_loss_total.agg([\"sum\", \"min\", \"max\"])\n",
    "\n",
    "df.sort_values(\"weight_loss_total\", ascending=False)\n",
    "\n",
    "df.sort_values([\"w1\", \"w2\"],ascending=False)\n",
    "\n",
    "df.sort_index()\n",
    "\n"
   ]
  },
  {
   "cell_type": "code",
   "execution_count": null,
   "metadata": {},
   "outputs": [],
   "source": [
    "df = pd.read_csv(\"./data/winemag-data_first150k.csv\")\n",
    "df.head()\n",
    "\n",
    "df.province.value_counts().head(8).plot.bar()\n",
    "\n",
    "df.province.value_counts().head(8).plot(kind=\"bar\")\n",
    "df.province.value_counts().head(8).plot.barh()\n",
    "\n",
    "df.points.value_counts().sort_index().plot.bar()\n",
    "\n",
    "df[df.province == \"Oregon\"].points.value_counts().sort_index().plot.bar()\n",
    "\n",
    "df[df.province == \"Oregon\"].points.value_counts().sort_index().plot.line()\n",
    "\n",
    "df[df.province == \"Northern Spain\"].points.value_counts().sort_index().plot.line()\n"
   ]
  },
  {
   "cell_type": "code",
   "execution_count": null,
   "metadata": {},
   "outputs": [],
   "source": [
    "df[df.province == \"Oregon\"].points.value_counts().sort_index().plot.line()\n",
    "df[df.province == \"Northern Spain\"].points.value_counts().sort_index().plot.line()\n",
    "df.points.value_counts().sort_index().plot.area()\n",
    "df[df.price<100].plot.scatter(x = \"price\", y = \"points\")\n",
    "\n",
    "df[df.price<100].plot.hexbin(x = \"price\", y = \"points\", gridsize = 15)\n",
    "\n",
    "# seaborn - библиотека\n",
    "# plotly   https://plotly.com/python/pie-charts/\n",
    "\n",
    "# https://git-scm.com/book/en/v2/Getting-Started-Installing-Git\n",
    "\n",
    "\n",
    "\n"
   ]
  },
  {
   "cell_type": "code",
   "execution_count": null,
   "metadata": {},
   "outputs": [],
   "source": [
    "git init\n",
    "git status\n",
    "git add .\n",
    "git commit -m \"init\"\n",
    "git commit -am \"3rd\"\n",
    "git push -u origin master\n",
    "\n"
   ]
  }
 ],
 "metadata": {
  "interpreter": {
   "hash": "82ca00de6dfeb9e2eef59d83b518ae9b61e5781747466ffa06053c845d8d3ce9"
  },
  "kernelspec": {
   "display_name": "Python 3.9.12 ('base')",
   "language": "python",
   "name": "python3"
  },
  "language_info": {
   "codemirror_mode": {
    "name": "ipython",
    "version": 3
   },
   "file_extension": ".py",
   "mimetype": "text/x-python",
   "name": "python",
   "nbconvert_exporter": "python",
   "pygments_lexer": "ipython3",
   "version": "3.9.12"
  },
  "orig_nbformat": 4
 },
 "nbformat": 4,
 "nbformat_minor": 2
}
